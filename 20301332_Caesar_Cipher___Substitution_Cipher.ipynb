{
  "nbformat": 4,
  "nbformat_minor": 0,
  "metadata": {
    "colab": {
      "provenance": []
    },
    "kernelspec": {
      "name": "python3",
      "display_name": "Python 3"
    },
    "language_info": {
      "name": "python"
    }
  },
  "cells": [
    {
      "cell_type": "markdown",
      "source": [
        "# Caesar Cipher"
      ],
      "metadata": {
        "id": "1wOocgMlVig-"
      }
    },
    {
      "cell_type": "code",
      "source": [
        "def decrypt_shift_cipher(ciphertext, key):\n",
        "  #to do"
      ],
      "metadata": {
        "id": "DeTQVJUm2hm0"
      },
      "execution_count": null,
      "outputs": []
    },
    {
      "cell_type": "code",
      "execution_count": null,
      "metadata": {
        "id": "mCabVhcQz0bV"
      },
      "outputs": [],
      "source": [
        "def encrypt_shift_cipher(plaintext, key):\n",
        "  #to do"
      ]
    },
    {
      "cell_type": "code",
      "source": [
        "#Decrypt the following text and find out the value of the key using the decrypt_shift_cipher() method.\n",
        "ciphertext = \"KYV HLZTB SIFNE WFO\"\n",
        "for i in range(26):\n",
        "  print(decrypt_shift_cipher(ciphertext, i))"
      ],
      "metadata": {
        "id": "dBQ7hHE_20uH",
        "collapsed": true
      },
      "execution_count": null,
      "outputs": []
    },
    {
      "cell_type": "code",
      "source": [
        "#Encrypt the following plaintext, using the summation of last 2 digits of your ID as the key\n",
        "plaintext = \"I am Batman\""
      ],
      "metadata": {
        "id": "YWqRQMF3455I"
      },
      "execution_count": null,
      "outputs": []
    },
    {
      "cell_type": "markdown",
      "source": [
        "# Substitution Cipher"
      ],
      "metadata": {
        "id": "RqFWriJBVoDO"
      }
    },
    {
      "cell_type": "code",
      "source": [
        "import pandas as pd\n",
        "def frequency_table(text):\n",
        "  table = []\n",
        "  count = 0\n",
        "  for i in text:\n",
        "    if i in 'qwertyuiopasdfghjklzxcvbnm':\n",
        "      count += 1\n",
        "  for i in range(97,123):\n",
        "    table.append(text.count(chr(i))/count)\n",
        "  index = [i[0] for i in sorted(enumerate(table), key=lambda x:x[1])][::-1]\n",
        "  for i in index:\n",
        "    print(chr(97+i)+\":\"+str(table[i]))"
      ],
      "metadata": {
        "id": "ZwImnQeYVtGE"
      },
      "execution_count": null,
      "outputs": []
    },
    {
      "cell_type": "code",
      "source": [
        "ciphertext = \"awbix ildxz kolf a dkzeplld afu zbjjbfm lf bj bz a rwkx iajxpobwwap zdlgbfm a ellgae. jex iajxpobwwap ykxzjblfz awbix afu zex audbjz jl exp ikppxfj buxfjbjt ipbzbz, ildolkfuxu rt exp bfarbwbjt jl pxdxdrxp a olxd. rxnlpx ipahwbfm ahat, jex iajxpobwwap jxwwz awbix jeaj lfx zbux ln jex dkzeplld hbww dagx exp jawwxp afu jex ljexp zbux hbww dagx exp zelpjxp. zex rpxagz lnn jhl obxixz npld jex dkzeplld. lfx zbux dagxz exp zepbfg zdawwxp jeaf xcxp, hebwx afljexp iakzxz exp fxig jl mplh ebme bfjl jex jpxxz, hexpx a obmxlf dbzjagxz exp nlp a zxpoxfj. hbje zldx xnnlpj, awbix rpbfmz expzxwn raig jl exp kzkaw exbmej. zex zjkdrwxz kolf a zdaww xzjajx afu kzxz jex dkzeplld jl pxaie a dlpx aooplopbajx exbmej.\"\n",
        "frequency_table(ciphertext)"
      ],
      "metadata": {
        "id": "2R-LMVH-brn3",
        "colab": {
          "base_uri": "https://localhost:8080/"
        },
        "outputId": "be834d8b-d978-47c1-beb1-d177258a4ecf"
      },
      "execution_count": null,
      "outputs": [
        {
          "output_type": "stream",
          "name": "stdout",
          "text": [
            "x:0.140597539543058\n",
            "p:0.08260105448154657\n",
            "a:0.08084358523725835\n",
            "j:0.07908611599297012\n",
            "z:0.07381370826010544\n",
            "l:0.07381370826010544\n",
            "e:0.07205623901581722\n",
            "b:0.06854130052724078\n",
            "w:0.050966608084358524\n",
            "f:0.043936731107205626\n",
            "d:0.043936731107205626\n",
            "i:0.029876977152899824\n",
            "k:0.026362038664323375\n",
            "o:0.022847100175746926\n",
            "u:0.019332161687170474\n",
            "g:0.01757469244288225\n",
            "r:0.015817223198594025\n",
            "n:0.015817223198594025\n",
            "m:0.015817223198594025\n",
            "h:0.015817223198594025\n",
            "t:0.007029876977152899\n",
            "y:0.0017574692442882249\n",
            "c:0.0017574692442882249\n",
            "v:0.0\n",
            "s:0.0\n",
            "q:0.0\n"
          ]
        }
      ]
    },
    {
      "cell_type": "code",
      "source": [
        "ciphertext = \"awbix ildxz kolf a dkzeplld afu zbjjbfm lf bj bz a rwkx iajxpobwwap zdlgbfm a ellgae.\\n jex iajxpobwwap ykxzjblfz awbix afu zex audbjz jl exp ikppxfj buxfjbjt ipbzbz, ildolkfuxu rt exp bfarbwbjt jl pxdxdrxp a olxd.\\n rxnlpx ipahwbfm ahat, jex iajxpobwwap jxwwz awbix jeaj lfx zbux ln jex dkzeplld hbww dagx exp jawwxp afu jex ljexp zbux hbww dagx exp zelpjxp.\\n zex rpxagz lnn jhl obxixz npld jex dkzeplld.\\n lfx zbux dagxz exp zepbfg zdawwxp jeaf xcxp, hebwx afljexp iakzxz exp fxig jl mplh ebme bfjl jex jpxxz, hexpx a obmxlf dbzjagxz exp nlp a zxpoxfj.\\n hbje zldx xnnlpj, awbix rpbfmz expzxwn raig jl exp kzkaw exbmej.\\n zex zjkdrwxz kolf a zdaww xzjajx afu kzxz jex dkzeplld jl pxaie a dlpx aooplopbajx exbmej.\"\n",
        "ciphertext = ciphertext.replace(\"x\",\"E\")\n",
        "print(ciphertext)\n"
      ],
      "metadata": {
        "id": "B2wtNETpfajr"
      },
      "execution_count": null,
      "outputs": []
    }
  ]
}