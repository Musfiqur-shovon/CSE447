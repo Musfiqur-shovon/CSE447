{
  "nbformat": 4,
  "nbformat_minor": 0,
  "metadata": {
    "colab": {
      "provenance": []
    },
    "kernelspec": {
      "name": "python3",
      "display_name": "Python 3"
    },
    "language_info": {
      "name": "python"
    }
  },
  "cells": [
    {
      "cell_type": "markdown",
      "source": [
        "###Chinese Remainder Theorem"
      ],
      "metadata": {
        "id": "T9wHMtLNa03r"
      }
    },
    {
      "cell_type": "code",
      "execution_count": null,
      "metadata": {
        "colab": {
          "base_uri": "https://localhost:8080/"
        },
        "id": "1Yp6p0WvRpoF",
        "outputId": "82776a3c-4cd1-4fde-8fca-2746422ba8be"
      },
      "outputs": [
        {
          "output_type": "stream",
          "name": "stdout",
          "text": [
            "17\n"
          ]
        }
      ],
      "source": [
        "e = 3\n",
        "m = 17\n",
        "n = [33, 35, 247]\n",
        "a_arr = []\n",
        "\n",
        "for i in range(len(n)):\n",
        "  a = (m**e) % n[i]\n",
        "  a_arr.append(a)\n",
        "\n",
        "def mod_inverse(x, y):\n",
        "  i = pow(x, -1, y)\n",
        "  return i\n",
        "\n",
        "m2m3 = n[1]*n[2]\n",
        "#print(m2m3)\n",
        "m1m3 = n[0]*n[2]\n",
        "#print(m1m3)\n",
        "m1m2 = n[0]*n[1]\n",
        "#print(m1m2)\n",
        "\n",
        "#print(a_arr[0])\n",
        "#print(a_arr[1])\n",
        "#print(a_arr[2])\n",
        "\n",
        "x = ((a_arr[0]*m2m3*mod_inverse(m2m3, n[0])) + (a_arr[1]*m1m3*mod_inverse(m1m3, n[1])) + (a_arr[2]*m1m2*mod_inverse(m1m2, n[2]))) % (n[0]*n[1]*n[2])\n",
        "\n",
        "final_message = x**(1/3)\n",
        "print(round(final_message))"
      ]
    },
    {
      "cell_type": "code",
      "source": [
        "#Cipher 1: 1632893752, N1=2015805937\n",
        "#Cipher 2: 1226329111, N2=3148630007\n",
        "#Cipher 3: 425882503, N3=1883043919\n",
        "\n",
        "#M = 1952805748\n",
        "e = 3\n",
        "m = 1952805748\n",
        "n = [2015805937, 3148630007, 1883043919]\n",
        "a_arr = [1632893752, 1226329111, 425882503]\n",
        "#x_arr = []\n",
        "#for i in range(len(n)):\n",
        "#  a = (m**e) % n[i]\n",
        "#  a_arr.append(a)\n",
        "\n",
        "def mod_inverse(x, y):\n",
        "  i = pow(x, -1, y)\n",
        "  return i\n",
        "\n",
        "m2m3 = n[1]*n[2]\n",
        "#print(m2m3)\n",
        "m1m3 = n[0]*n[2]\n",
        "#print(m1m3)\n",
        "m1m2 = n[0]*n[1]\n",
        "#print(m1m2)\n",
        "\n",
        "#print(a_arr[0])\n",
        "#print(a_arr[1])\n",
        "#print(a_arr[2])\n",
        "\n",
        "x = ((a_arr[0]*m2m3*mod_inverse(m2m3, n[0])) + (a_arr[1]*m1m3*mod_inverse(m1m3, n[1])) + (a_arr[2]*m1m2*mod_inverse(m1m2, n[2]))) % (n[0]*n[1]*n[2])\n",
        "\n",
        "final_message = x**(1/3)\n",
        "print(round(final_message))"
      ],
      "metadata": {
        "colab": {
          "base_uri": "https://localhost:8080/"
        },
        "id": "lk7bKw8qXQVi",
        "outputId": "4775e470-9ea1-45d4-947a-55da87c4b6bb"
      },
      "execution_count": null,
      "outputs": [
        {
          "output_type": "stream",
          "name": "stdout",
          "text": [
            "1952805748\n"
          ]
        }
      ]
    },
    {
      "cell_type": "markdown",
      "source": [
        "###Diffie-Hellman Key Exchange"
      ],
      "metadata": {
        "id": "gnIuOR1Ya5_K"
      }
    },
    {
      "cell_type": "code",
      "source": [
        "p = 23\n",
        "g = 9\n",
        "\n",
        "a = int(input(\"Private key for Alice: \"))\n",
        "b = int(input(\"Private key for Bob: \"))\n",
        "\n",
        "keygen_a = (g**a) % p\n",
        "keygen_b = (g**b) % p\n",
        "\n",
        "y = keygen_b\n",
        "x = keygen_a\n",
        "\n",
        "k_a = (y**a) % p\n",
        "k_b = (x**b) % p\n",
        "\n",
        "print(\"K_a:\", k_a)\n",
        "print(\"K_b:\", k_b)\n",
        "\n",
        "if k_a == k_b:\n",
        "  print(\"Same key found!\")\n",
        "else:\n",
        "  print(\"FAILED\")"
      ],
      "metadata": {
        "id": "mvpTwRJra8C5",
        "colab": {
          "base_uri": "https://localhost:8080/"
        },
        "outputId": "fdf42a1e-66a0-4590-9665-729a8408924c"
      },
      "execution_count": null,
      "outputs": [
        {
          "output_type": "stream",
          "name": "stdout",
          "text": [
            "Private key for Alice: 125\n",
            "Private key for Bob: 125\n",
            "K_a: 8\n",
            "K_b: 8\n",
            "Same key found!\n"
          ]
        }
      ]
    }
  ]
}