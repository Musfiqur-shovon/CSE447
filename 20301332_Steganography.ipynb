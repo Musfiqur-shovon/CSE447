{
  "nbformat": 4,
  "nbformat_minor": 0,
  "metadata": {
    "colab": {
      "provenance": []
    },
    "kernelspec": {
      "name": "python3",
      "display_name": "Python 3"
    },
    "language_info": {
      "name": "python"
    }
  },
  "cells": [
    {
      "cell_type": "code",
      "source": [
        "from PIL import Image"
      ],
      "metadata": {
        "id": "fkzpzEpATZXt"
      },
      "execution_count": null,
      "outputs": []
    },
    {
      "cell_type": "code",
      "execution_count": null,
      "metadata": {
        "id": "bmj0qCEo05gh"
      },
      "outputs": [],
      "source": [
        "\n",
        "def hide_message(image_path, message):\n",
        "    img = Image.open(image_path)\n",
        "\n",
        "    binary_message = ''.join(format(ord(i), '08b') for i in message)\n",
        "\n",
        "    width, height = img.size\n",
        "\n",
        "    max_message_length = (width * height) // 8\n",
        "\n",
        "    if len(binary_message) > max_message_length:\n",
        "        raise ValueError('Message too long to be hidden in the given image')\n",
        "\n",
        "    new_img = Image.new(img.mode, img.size)\n",
        "\n",
        "    message_index = 0\n",
        "    for y in range(height):\n",
        "        for x in range(width):\n",
        "            pixel = img.getpixel((x, y))\n",
        "            red, green, blue = pixel\n",
        "\n",
        "    # Loop through each pixel in the image - use nested loop where x represents width & y represents height\n",
        "            # Get the RGB values of the current pixel, using img.getpixel()\n",
        "            # unpack the result tuple to red, green & blue\n",
        "\n",
        "            # Check if the message has been fully hidden\n",
        "            if message_index == len(binary_message):\n",
        "                new_img.putpixel((x, y), pixel)\n",
        "                continue\n",
        "\n",
        "            # Modify the least significant bit of each RGB value with the message bits\n",
        "            red_binary = format(red, '08b')\n",
        "            green_binary = format(green, '08b')\n",
        "            blue_binary = format(blue, '08b')\n",
        "\n",
        "            #update last value of red_binary and increment message_index (done for you)\n",
        "            red_binary = red_binary[:-1] + binary_message[message_index]\n",
        "            message_index += 1\n",
        "\n",
        "            #check if message_index reached it's limit\n",
        "            #if yes, set '0' as the last value of green and blue binary\n",
        "            #else, update last value of green_binary and increment message_index\n",
        "            if message_index < len(binary_message):\n",
        "                red_binary = red_binary[:-1] + binary_message[message_index]\n",
        "                message_index += 1\n",
        "            else:\n",
        "                red_binary = red_binary[:-1] + '0'\n",
        "\n",
        "            if message_index < len(binary_message):\n",
        "                green_binary = green_binary[:-1] + binary_message[message_index]\n",
        "                message_index += 1\n",
        "            else:\n",
        "                green_binary = green_binary[:-1] + '0'\n",
        "\n",
        "            if message_index < len(binary_message):\n",
        "                blue_binary = blue_binary[:-1] + binary_message[message_index]\n",
        "                message_index += 1\n",
        "            else:\n",
        "                blue_binary = blue_binary[:-1] + '0'\n",
        "            #check again if message_index reached it's limit\n",
        "            #if yes, set '0' as the last value of blue binary\n",
        "            #else, update the last value of blue_binary and increment message_index\n",
        "\n",
        "            #converting back to binary\n",
        "            red = int(red_binary, 2)\n",
        "            green = int(green_binary, 2)\n",
        "            blue = int(blue_binary, 2)\n",
        "\n",
        "            # Create a new pixel with the modified RGB values and add it to the new image\n",
        "            new_pixel = (red, green, blue)\n",
        "            new_img.putpixel((x, y), new_pixel)\n",
        "\n",
        "    # Save the new image with the message hidden inside\n",
        "    new_img.save('hidden.png')"
      ]
    },
    {
      "cell_type": "code",
      "source": [
        "hide_message(\"cerberus.jpg\", \"CSE447\")"
      ],
      "metadata": {
        "id": "PishPopOYB8h"
      },
      "execution_count": null,
      "outputs": []
    },
    {
      "cell_type": "code",
      "source": [
        "def extract_message(image_path):\n",
        "    # Open the image\n",
        "    img = Image.open(image_path)\n",
        "\n",
        "    # Get the size of the image\n",
        "    width, height = img.size\n",
        "\n",
        "    binary_message = ''\n",
        "    # Loop through each pixel in the image - use nested loop where x represents width & y represents height\n",
        "    for y in range(height):\n",
        "      for x in range(width):\n",
        "            pixel = img.getpixel((x, y))\n",
        "            red, green, blue = pixel\n",
        "\n",
        "            red_binary = format(red, '08b')\n",
        "            green_binary = format(green, '08b')\n",
        "            blue_binary = format(blue, '08b')\n",
        "\n",
        "            #concat last bit of every red_binary, green_binary & blue_binary to binary_message\n",
        "\n",
        "    # Convert the binary message to text (done for you)\n",
        "    message = ''\n",
        "    for i in range(0, len(binary_message), 8):\n",
        "        message += chr(int(binary_message[i:i+8], 2))\n",
        "\n",
        "    return message"
      ],
      "metadata": {
        "id": "tFX7mxnyTNe0"
      },
      "execution_count": null,
      "outputs": []
    },
    {
      "cell_type": "code",
      "source": [
        "\n",
        "extract_message(\"/content/hidden.png\")"
      ],
      "metadata": {
        "id": "S3nysWcf2gyP",
        "colab": {
          "base_uri": "https://localhost:8080/",
          "height": 35
        },
        "outputId": "6f98cb4e-e6e2-424e-bf47-365e38cb8bba"
      },
      "execution_count": null,
      "outputs": [
        {
          "output_type": "execute_result",
          "data": {
            "text/plain": [
              "''"
            ],
            "application/vnd.google.colaboratory.intrinsic+json": {
              "type": "string"
            }
          },
          "metadata": {},
          "execution_count": 26
        }
      ]
    }
  ]
}